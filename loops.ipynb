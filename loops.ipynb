{
 "cells": [
  {
   "cell_type": "code",
   "execution_count": 5,
   "metadata": {},
   "outputs": [
    {
     "name": "stdout",
     "output_type": "stream",
     "text": [
      "12 56 23 56 78 21 "
     ]
    }
   ],
   "source": [
    "x=[12,56,23,56,78,21]\n",
    "for item in x:\n",
    "    print(item,end=\" \")"
   ]
  },
  {
   "cell_type": "code",
   "execution_count": 8,
   "metadata": {},
   "outputs": [
    {
     "name": "stdout",
     "output_type": "stream",
     "text": [
      "total apps=7\n"
     ]
    }
   ],
   "source": [
    "apps=['cmaera','music','insta','whatspp','snap','chrome','hdfc']\n",
    "print(f'total apps={len(apps)}')"
   ]
  },
  {
   "cell_type": "code",
   "execution_count": 11,
   "metadata": {},
   "outputs": [
    {
     "name": "stdout",
     "output_type": "stream",
     "text": [
      "cmaera         | 6\n",
      "music          | 5\n",
      "insta          | 5\n",
      "whatspp        | 7\n",
      "snap           | 4\n",
      "chrome         | 6\n",
      "hdfc           | 4\n"
     ]
    }
   ],
   "source": [
    "for app in apps:\n",
    "    print(f'{app:15}| {len(app)}')"
   ]
  },
  {
   "cell_type": "code",
   "execution_count": 13,
   "metadata": {},
   "outputs": [
    {
     "name": "stdout",
     "output_type": "stream",
     "text": [
      "insta\n",
      "snap\n"
     ]
    }
   ],
   "source": [
    "for app in apps:\n",
    "    if 'n' in app:\n",
    "        print(app)"
   ]
  },
  {
   "cell_type": "code",
   "execution_count": 14,
   "metadata": {},
   "outputs": [
    {
     "name": "stdout",
     "output_type": "stream",
     "text": [
      "cmaera\n",
      "chrome\n"
     ]
    }
   ],
   "source": [
    "for app in apps:\n",
    "    if app.startswith('c'):\n",
    "        print(app)"
   ]
  },
  {
   "cell_type": "code",
   "execution_count": 16,
   "metadata": {},
   "outputs": [
    {
     "name": "stdout",
     "output_type": "stream",
     "text": [
      "music\n",
      "hdfc\n"
     ]
    }
   ],
   "source": [
    "for app in apps:\n",
    "    if app.endswith('c'):\n",
    "        print(app)"
   ]
  },
  {
   "cell_type": "code",
   "execution_count": 17,
   "metadata": {},
   "outputs": [
    {
     "name": "stdout",
     "output_type": "stream",
     "text": [
      "12\n",
      "45\n",
      "56\n",
      "78\n",
      "90\n",
      "45\n"
     ]
    }
   ],
   "source": [
    "data=[12,45,56,78,90,0,0,45]\n",
    "for i in data:\n",
    "    if i==0:\n",
    "        continue\n",
    "    print(i)\n"
   ]
  },
  {
   "cell_type": "code",
   "execution_count": 18,
   "metadata": {},
   "outputs": [
    {
     "name": "stdout",
     "output_type": "stream",
     "text": [
      "12\n",
      "45\n",
      "56\n",
      "78\n",
      "90\n"
     ]
    }
   ],
   "source": [
    "data=[12,45,56,78,90,0,0,45]\n",
    "for i in data:\n",
    "    if i==0:\n",
    "        break\n",
    "    print(i)"
   ]
  },
  {
   "cell_type": "code",
   "execution_count": 19,
   "metadata": {},
   "outputs": [
    {
     "name": "stdout",
     "output_type": "stream",
     "text": [
      "(0, 'cmaera')\n",
      "(1, 'music')\n",
      "(2, 'insta')\n",
      "(3, 'whatspp')\n",
      "(4, 'snap')\n",
      "(5, 'chrome')\n",
      "(6, 'hdfc')\n"
     ]
    }
   ],
   "source": [
    "for app in enumerate(apps):\n",
    "    print(app)"
   ]
  },
  {
   "cell_type": "code",
   "execution_count": 20,
   "metadata": {},
   "outputs": [
    {
     "name": "stdout",
     "output_type": "stream",
     "text": [
      "0 cmaera\n",
      "1 music\n",
      "2 insta\n",
      "3 whatspp\n",
      "4 snap\n",
      "5 chrome\n",
      "6 hdfc\n"
     ]
    }
   ],
   "source": [
    "for i,app in enumerate(apps):\n",
    "    print(i,app)"
   ]
  },
  {
   "cell_type": "code",
   "execution_count": 22,
   "metadata": {},
   "outputs": [
    {
     "name": "stdout",
     "output_type": "stream",
     "text": [
      "0 cmaera\n",
      "1 music\n",
      "2 insta\n",
      "3 whatspp\n",
      "4 snap\n",
      "5 chrome\n"
     ]
    }
   ],
   "source": [
    "for i,app in enumerate(apps):\n",
    "    if i>5:\n",
    "        break\n",
    "    print(i,app)"
   ]
  },
  {
   "cell_type": "code",
   "execution_count": 4,
   "metadata": {},
   "outputs": [
    {
     "name": "stdout",
     "output_type": "stream",
     "text": [
      "5 prime\n"
     ]
    }
   ],
   "source": [
    "#for else\n",
    "num= int(input(\"enter a num\"))\n",
    "for i in range(2,num):\n",
    "    if num%i==0:\n",
    "        print(f\"{num} not prime\")\n",
    "        break\n",
    "else:\n",
    "    print(f\"{num} prime\")\n",
    "\n"
   ]
  },
  {
   "cell_type": "code",
   "execution_count": 5,
   "metadata": {},
   "outputs": [],
   "source": [
    "items=['pen','pencil','book']\n",
    "prices=[10.00, 2.00, 199.00]\n",
    "qty=[20,50,10]"
   ]
  },
  {
   "cell_type": "code",
   "execution_count": 9,
   "metadata": {},
   "outputs": [
    {
     "name": "stdout",
     "output_type": "stream",
     "text": [
      "pen         10.0    20\n",
      "pencil       2.0    50\n",
      "book       199.0    10\n"
     ]
    }
   ],
   "source": [
    "for i,p,q in zip(items,prices,qty):\n",
    "    print(f'{i:10} {p:5} {q:5}')\n",
    "\n"
   ]
  },
  {
   "cell_type": "code",
   "execution_count": 11,
   "metadata": {},
   "outputs": [
    {
     "name": "stdout",
     "output_type": "stream",
     "text": [
      "10\n"
     ]
    }
   ],
   "source": [
    "n=int(input('enter any value'))\n",
    "total=0\n",
    "while n>0:\n",
    "    total += n%10 # add remainder to total\n",
    "    n= n//10      # makev  quotient as number\n",
    "print(total)    "
   ]
  },
  {
   "cell_type": "code",
   "execution_count": 18,
   "metadata": {},
   "outputs": [
    {
     "name": "stdout",
     "output_type": "stream",
     "text": [
      "try again 2 chances left\n",
      "try again 1 chances left\n",
      "try again 0 chances left\n"
     ]
    }
   ],
   "source": [
    "retries=0\n",
    "while retries<3:\n",
    "    pin=input('enter pin:')\n",
    "    if pin=='1234':\n",
    "        print(\"welcome baby\")\n",
    "        break\n",
    "    else:\n",
    "        print(f\"try again {2-retries} chances left\")\n",
    "        retries+=1"
   ]
  },
  {
   "cell_type": "code",
   "execution_count": null,
   "metadata": {},
   "outputs": [],
   "source": []
  }
 ],
 "metadata": {
  "kernelspec": {
   "display_name": "Python 3",
   "language": "python",
   "name": "python3"
  },
  "language_info": {
   "codemirror_mode": {
    "name": "ipython",
    "version": 3
   },
   "file_extension": ".py",
   "mimetype": "text/x-python",
   "name": "python",
   "nbconvert_exporter": "python",
   "pygments_lexer": "ipython3",
   "version": "3.10.9"
  },
  "orig_nbformat": 4,
  "vscode": {
   "interpreter": {
    "hash": "0e107293a1d140d83dbbf32995913b2c919f28a44c73f7b507ef912319e9e5c3"
   }
  }
 },
 "nbformat": 4,
 "nbformat_minor": 2
}
