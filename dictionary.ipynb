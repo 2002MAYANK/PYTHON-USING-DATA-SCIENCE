{
 "cells": [
  {
   "cell_type": "code",
   "execution_count": 1,
   "metadata": {},
   "outputs": [
    {
     "data": {
      "text/plain": [
       "['bruce', 'gotham', 'batman', 'whyne']"
      ]
     },
     "execution_count": 1,
     "metadata": {},
     "output_type": "execute_result"
    }
   ],
   "source": [
    "['bruce','gotham','batman','whyne']\n"
   ]
  },
  {
   "cell_type": "code",
   "execution_count": 5,
   "metadata": {},
   "outputs": [],
   "source": [
    "book= {\n",
    "    'title':'the lost metal',\n",
    "    'author':'mayank',\n",
    "    'pages': 899,\n",
    "    'price':'$19.99',\n",
    "    'type': 'hardcover',\n",
    "    'publisher':'tor books'\n",
    "}"
   ]
  },
  {
   "cell_type": "code",
   "execution_count": 6,
   "metadata": {},
   "outputs": [
    {
     "data": {
      "text/plain": [
       "'the lost metal'"
      ]
     },
     "execution_count": 6,
     "metadata": {},
     "output_type": "execute_result"
    }
   ],
   "source": [
    "book['title']"
   ]
  },
  {
   "cell_type": "code",
   "execution_count": 7,
   "metadata": {},
   "outputs": [],
   "source": [
    "book['price']='$21.66'"
   ]
  },
  {
   "cell_type": "code",
   "execution_count": 8,
   "metadata": {},
   "outputs": [
    {
     "data": {
      "text/plain": [
       "{'title': 'the lost metal',\n",
       " 'author': 'mayank',\n",
       " 'pages': 899,\n",
       " 'price': '$21.66',\n",
       " 'type': 'hardcover',\n",
       " 'publisher': 'tor books'}"
      ]
     },
     "execution_count": 8,
     "metadata": {},
     "output_type": "execute_result"
    }
   ],
   "source": [
    "book"
   ]
  },
  {
   "cell_type": "code",
   "execution_count": 9,
   "metadata": {},
   "outputs": [],
   "source": [
    "book['rating']=4.88"
   ]
  },
  {
   "cell_type": "code",
   "execution_count": 10,
   "metadata": {},
   "outputs": [
    {
     "data": {
      "text/plain": [
       "{'title': 'the lost metal',\n",
       " 'author': 'mayank',\n",
       " 'pages': 899,\n",
       " 'price': '$21.66',\n",
       " 'type': 'hardcover',\n",
       " 'publisher': 'tor books',\n",
       " 'rating': 4.88}"
      ]
     },
     "execution_count": 10,
     "metadata": {},
     "output_type": "execute_result"
    }
   ],
   "source": [
    "book"
   ]
  },
  {
   "cell_type": "code",
   "execution_count": 11,
   "metadata": {},
   "outputs": [
    {
     "data": {
      "text/plain": [
       "['title', 'author', 'pages', 'price', 'type', 'publisher', 'rating']"
      ]
     },
     "execution_count": 11,
     "metadata": {},
     "output_type": "execute_result"
    }
   ],
   "source": [
    "list(book.keys())"
   ]
  },
  {
   "cell_type": "code",
   "execution_count": 12,
   "metadata": {},
   "outputs": [
    {
     "data": {
      "text/plain": [
       "['the lost metal', 'mayank', 899, '$21.66', 'hardcover', 'tor books', 4.88]"
      ]
     },
     "execution_count": 12,
     "metadata": {},
     "output_type": "execute_result"
    }
   ],
   "source": [
    "list(book.values())"
   ]
  },
  {
   "cell_type": "code",
   "execution_count": 13,
   "metadata": {},
   "outputs": [
    {
     "data": {
      "text/plain": [
       "[('title', 'the lost metal'),\n",
       " ('author', 'mayank'),\n",
       " ('pages', 899),\n",
       " ('price', '$21.66'),\n",
       " ('type', 'hardcover'),\n",
       " ('publisher', 'tor books'),\n",
       " ('rating', 4.88)]"
      ]
     },
     "execution_count": 13,
     "metadata": {},
     "output_type": "execute_result"
    }
   ],
   "source": [
    "list(book.items())"
   ]
  },
  {
   "cell_type": "code",
   "execution_count": 15,
   "metadata": {},
   "outputs": [
    {
     "name": "stdout",
     "output_type": "stream",
     "text": [
      "title the lost metal\n",
      "author mayank\n",
      "pages 899\n",
      "price $21.66\n",
      "type hardcover\n",
      "publisher tor books\n",
      "rating 4.88\n"
     ]
    }
   ],
   "source": [
    "#loop to get both keys and values\n",
    "for i in book:\n",
    "    print(i,book[i])"
   ]
  },
  {
   "cell_type": "code",
   "execution_count": 16,
   "metadata": {},
   "outputs": [
    {
     "name": "stdout",
     "output_type": "stream",
     "text": [
      "title the lost metal\n",
      "author mayank\n",
      "pages 899\n",
      "price $21.66\n",
      "type hardcover\n",
      "publisher tor books\n",
      "rating 4.88\n"
     ]
    }
   ],
   "source": [
    "for k,v in book.items():\n",
    "    print(k,v)"
   ]
  },
  {
   "cell_type": "code",
   "execution_count": 18,
   "metadata": {},
   "outputs": [
    {
     "name": "stdout",
     "output_type": "stream",
     "text": [
      "{'name': 'dd', 'email': 'dd', 'dob': 'd', 'password': 'd'}\n"
     ]
    }
   ],
   "source": [
    "#user input\n",
    "userdata={}\n",
    "userdata['name']=input('enter your name')\n",
    "userdata['email']=input('enter your mail')\n",
    "userdata['dob']=input('enter your dob')\n",
    "userdata['password']=input('enter your pass')\n",
    "print(userdata)"
   ]
  },
  {
   "cell_type": "code",
   "execution_count": 20,
   "metadata": {},
   "outputs": [],
   "source": [
    "#nested dictionary\n",
    "report={\n",
    "    'mayank':{\n",
    "    'english':90,\n",
    "    'maths':90,\n",
    "    'comp':99,\n",
    "    },\n",
    "    'aniket':{\n",
    "    'english':99,\n",
    "    'maths':9,\n",
    "    'comp':78,\n",
    "    \n",
    "\n",
    "    \n",
    "    }\n",
    "\n",
    "    \n",
    "\n",
    "}"
   ]
  },
  {
   "cell_type": "code",
   "execution_count": 21,
   "metadata": {},
   "outputs": [
    {
     "data": {
      "text/plain": [
       "90"
      ]
     },
     "execution_count": 21,
     "metadata": {},
     "output_type": "execute_result"
    }
   ],
   "source": [
    "report['mayank']['maths']"
   ]
  },
  {
   "cell_type": "code",
   "execution_count": 22,
   "metadata": {},
   "outputs": [
    {
     "name": "stdout",
     "output_type": "stream",
     "text": [
      "mayank -> english 90\n",
      "mayank -> maths 90\n",
      "mayank -> comp 99\n",
      "aniket -> english 99\n",
      "aniket -> maths 9\n",
      "aniket -> comp 78\n"
     ]
    }
   ],
   "source": [
    "for k,v in report.items():\n",
    "    for k1,v1 in v.items():\n",
    "        print(k,'->',k1,v1)"
   ]
  },
  {
   "cell_type": "code",
   "execution_count": 23,
   "metadata": {},
   "outputs": [
    {
     "data": {
      "text/plain": [
       "'mayank'"
      ]
     },
     "execution_count": 23,
     "metadata": {},
     "output_type": "execute_result"
    }
   ],
   "source": [
    "book.pop('author')"
   ]
  },
  {
   "cell_type": "code",
   "execution_count": 24,
   "metadata": {},
   "outputs": [
    {
     "data": {
      "text/plain": [
       "{'title': 'the lost metal',\n",
       " 'pages': 899,\n",
       " 'price': '$21.66',\n",
       " 'type': 'hardcover',\n",
       " 'publisher': 'tor books',\n",
       " 'rating': 4.88}"
      ]
     },
     "execution_count": 24,
     "metadata": {},
     "output_type": "execute_result"
    }
   ],
   "source": [
    "book"
   ]
  },
  {
   "cell_type": "code",
   "execution_count": 26,
   "metadata": {},
   "outputs": [
    {
     "data": {
      "text/plain": [
       "{1: 'nothing', 2: 'nothing', 3: 'nothing', 4: 'nothing', 5: 'nothing'}"
      ]
     },
     "execution_count": 26,
     "metadata": {},
     "output_type": "execute_result"
    }
   ],
   "source": [
    "x=[1,2,3,4,5]\n",
    "dict.fromkeys(x,'nothing')"
   ]
  },
  {
   "cell_type": "code",
   "execution_count": null,
   "metadata": {},
   "outputs": [],
   "source": []
  }
 ],
 "metadata": {
  "kernelspec": {
   "display_name": "Python 3",
   "language": "python",
   "name": "python3"
  },
  "language_info": {
   "codemirror_mode": {
    "name": "ipython",
    "version": 3
   },
   "file_extension": ".py",
   "mimetype": "text/x-python",
   "name": "python",
   "nbconvert_exporter": "python",
   "pygments_lexer": "ipython3",
   "version": "3.10.9"
  },
  "orig_nbformat": 4,
  "vscode": {
   "interpreter": {
    "hash": "0e107293a1d140d83dbbf32995913b2c919f28a44c73f7b507ef912319e9e5c3"
   }
  }
 },
 "nbformat": 4,
 "nbformat_minor": 2
}
