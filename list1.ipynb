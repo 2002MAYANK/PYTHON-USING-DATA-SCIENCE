{
 "cells": [
  {
   "cell_type": "code",
   "execution_count": 3,
   "metadata": {},
   "outputs": [],
   "source": [
    "x=[]#blank list\n",
    "x2=[1,2,3]# list with 3 elements\n",
    "x3=[12,45,'apple','orange']#list with 4 elements\n",
    "x4=['aman','vijay','ritik']"
   ]
  },
  {
   "cell_type": "code",
   "execution_count": 4,
   "metadata": {},
   "outputs": [
    {
     "data": {
      "text/plain": [
       "[1, 2, 3, 1, 2, 3, 1, 2, 3, 1, 2, 3, 1, 2, 3]"
      ]
     },
     "execution_count": 4,
     "metadata": {},
     "output_type": "execute_result"
    }
   ],
   "source": [
    "x2*5"
   ]
  },
  {
   "cell_type": "code",
   "execution_count": 5,
   "metadata": {},
   "outputs": [
    {
     "name": "stdout",
     "output_type": "stream",
     "text": [
      "[1, 2, 3, 12, 45, 'apple', 'orange']\n"
     ]
    }
   ],
   "source": [
    "x5=x2+x3\n",
    "print(x5)"
   ]
  },
  {
   "cell_type": "code",
   "execution_count": 6,
   "metadata": {},
   "outputs": [],
   "source": [
    "y1=['bahubali','kgf','rrr','war','kabir singh']\n",
    "y2=['flying jatt','laila','housefull4','baaghi3','radhe shyam']\n"
   ]
  },
  {
   "cell_type": "code",
   "execution_count": 7,
   "metadata": {},
   "outputs": [
    {
     "name": "stdout",
     "output_type": "stream",
     "text": [
      "['bahubali', 'kgf', 'rrr', 'war', 'kabir singh', 'flying jatt', 'laila', 'housefull4', 'baaghi3', 'radhe shyam']\n"
     ]
    }
   ],
   "source": [
    "y3=y1+y2\n",
    "print(y3)"
   ]
  },
  {
   "cell_type": "code",
   "execution_count": 8,
   "metadata": {},
   "outputs": [
    {
     "name": "stdout",
     "output_type": "stream",
     "text": [
      "['bahubali', 'kgf', 'rrr', 'war', 'kabir singh', 'flying jatt', 'laila', 'housefull4', 'baaghi3', 'radhe shyam', 'vikram vedha', 'toofan']\n"
     ]
    }
   ],
   "source": [
    "y3.append('vikram vedha')\n",
    "y3.append('toofan')\n",
    "print(y3)"
   ]
  },
  {
   "cell_type": "code",
   "execution_count": 9,
   "metadata": {},
   "outputs": [
    {
     "name": "stdout",
     "output_type": "stream",
     "text": [
      "['hera pheri', 'bahubali', 'kgf', 'rrr', 'war', 'kabir singh', 'flying jatt', 'laila', 'housefull4', 'baaghi3', 'radhe shyam', 'vikram vedha', 'toofan']\n"
     ]
    }
   ],
   "source": [
    "\n",
    "y3.insert(0,'hera pheri')\n",
    "print(y3)"
   ]
  },
  {
   "cell_type": "code",
   "execution_count": 10,
   "metadata": {},
   "outputs": [
    {
     "name": "stdout",
     "output_type": "stream",
     "text": [
      "['hera pheri', 'bahubali', 'kgf', 'rrr', 'war', 'kabir singh', 'flying jatt', 'laila', 'housefull4', 'baaghi3', 'radhe shyam', 'vikram vedha', 'toofan', 'harry potter', 'harry potter2']\n"
     ]
    }
   ],
   "source": [
    "sequals=['harry potter','harry potter2']\n",
    "y3.extend(sequals)\n",
    "print(y3)"
   ]
  },
  {
   "cell_type": "code",
   "execution_count": 11,
   "metadata": {},
   "outputs": [
    {
     "data": {
      "text/plain": [
       "['hera pheri', 'bahubali', 'kgf', 'rrr', 'war']"
      ]
     },
     "execution_count": 11,
     "metadata": {},
     "output_type": "execute_result"
    }
   ],
   "source": [
    "y3[:5]"
   ]
  },
  {
   "cell_type": "code",
   "execution_count": 12,
   "metadata": {},
   "outputs": [
    {
     "data": {
      "text/plain": [
       "['radhe shyam', 'vikram vedha', 'toofan', 'harry potter', 'harry potter2']"
      ]
     },
     "execution_count": 12,
     "metadata": {},
     "output_type": "execute_result"
    }
   ],
   "source": [
    "y3[-5:]"
   ]
  },
  {
   "cell_type": "code",
   "execution_count": 13,
   "metadata": {},
   "outputs": [],
   "source": [
    "y3.reverse()"
   ]
  },
  {
   "cell_type": "code",
   "execution_count": 14,
   "metadata": {},
   "outputs": [
    {
     "name": "stdout",
     "output_type": "stream",
     "text": [
      "['harry potter2', 'harry potter', 'toofan', 'vikram vedha', 'radhe shyam', 'baaghi3', 'housefull4', 'laila', 'flying jatt', 'kabir singh', 'war', 'rrr', 'kgf', 'bahubali', 'hera pheri']\n"
     ]
    }
   ],
   "source": [
    "print(y3)"
   ]
  },
  {
   "cell_type": "code",
   "execution_count": 15,
   "metadata": {},
   "outputs": [
    {
     "data": {
      "text/plain": [
       "['hera pheri',\n",
       " 'bahubali',\n",
       " 'kgf',\n",
       " 'rrr',\n",
       " 'war',\n",
       " 'kabir singh',\n",
       " 'flying jatt',\n",
       " 'laila',\n",
       " 'housefull4',\n",
       " 'baaghi3',\n",
       " 'radhe shyam',\n",
       " 'vikram vedha',\n",
       " 'toofan',\n",
       " 'harry potter',\n",
       " 'harry potter2']"
      ]
     },
     "execution_count": 15,
     "metadata": {},
     "output_type": "execute_result"
    }
   ],
   "source": [
    "y3[::-1]"
   ]
  },
  {
   "cell_type": "code",
   "execution_count": 16,
   "metadata": {},
   "outputs": [
    {
     "name": "stdout",
     "output_type": "stream",
     "text": [
      "['war', 'vikram vedha', 'toofan', 'rrr', 'radhe shyam', 'laila', 'kgf', 'kabir singh', 'housefull4', 'hera pheri', 'harry potter2', 'harry potter', 'flying jatt', 'bahubali', 'baaghi3']\n"
     ]
    }
   ],
   "source": [
    "y3.sort(reverse=True)\n",
    "print(y3)"
   ]
  },
  {
   "cell_type": "code",
   "execution_count": 17,
   "metadata": {},
   "outputs": [],
   "source": [
    "import random as rnd"
   ]
  },
  {
   "cell_type": "code",
   "execution_count": 18,
   "metadata": {},
   "outputs": [
    {
     "name": "stdout",
     "output_type": "stream",
     "text": [
      "['housefull4', 'baaghi3', 'harry potter', 'kabir singh', 'flying jatt', 'hera pheri', 'kgf', 'bahubali', 'war', 'rrr', 'laila', 'vikram vedha', 'toofan', 'radhe shyam', 'harry potter2']\n"
     ]
    }
   ],
   "source": [
    "rnd.shuffle(y3)\n",
    "print(y3)"
   ]
  },
  {
   "cell_type": "code",
   "execution_count": 19,
   "metadata": {},
   "outputs": [
    {
     "data": {
      "text/plain": [
       "'vikram vedha'"
      ]
     },
     "execution_count": 19,
     "metadata": {},
     "output_type": "execute_result"
    }
   ],
   "source": [
    "rnd.choice(y3)"
   ]
  },
  {
   "cell_type": "code",
   "execution_count": 20,
   "metadata": {},
   "outputs": [
    {
     "data": {
      "text/plain": [
       "['toofan', 'baaghi3', 'harry potter2', 'vikram vedha']"
      ]
     },
     "execution_count": 20,
     "metadata": {},
     "output_type": "execute_result"
    }
   ],
   "source": [
    "rnd.choices(y3,k=4)"
   ]
  },
  {
   "cell_type": "code",
   "execution_count": 21,
   "metadata": {},
   "outputs": [
    {
     "data": {
      "text/plain": [
       "7"
      ]
     },
     "execution_count": 21,
     "metadata": {},
     "output_type": "execute_result"
    }
   ],
   "source": [
    "y3.index('bahubali')"
   ]
  },
  {
   "cell_type": "code",
   "execution_count": 22,
   "metadata": {},
   "outputs": [
    {
     "data": {
      "text/plain": [
       "'harry potter2'"
      ]
     },
     "execution_count": 22,
     "metadata": {},
     "output_type": "execute_result"
    }
   ],
   "source": [
    "y3.pop() #removes last element"
   ]
  },
  {
   "cell_type": "code",
   "execution_count": 23,
   "metadata": {},
   "outputs": [
    {
     "data": {
      "text/plain": [
       "'kabir singh'"
      ]
     },
     "execution_count": 23,
     "metadata": {},
     "output_type": "execute_result"
    }
   ],
   "source": [
    "y3.pop(3)"
   ]
  },
  {
   "cell_type": "code",
   "execution_count": 24,
   "metadata": {},
   "outputs": [
    {
     "name": "stdout",
     "output_type": "stream",
     "text": [
      "['housefull4', 'baaghi3', 'harry potter', 'flying jatt', 'hera pheri', 'kgf', 'bahubali', 'war', 'rrr', 'laila', 'vikram vedha', 'toofan', 'radhe shyam']\n"
     ]
    }
   ],
   "source": [
    "print(y3)"
   ]
  },
  {
   "cell_type": "code",
   "execution_count": 4,
   "metadata": {},
   "outputs": [
    {
     "name": "stdout",
     "output_type": "stream",
     "text": [
      "[100, 2, 200, 4, 5]\n",
      "[100, 2, 200, 4, 5]\n",
      "True\n"
     ]
    }
   ],
   "source": [
    "a= [1,2,3,4,5]\n",
    "b = a  # data structure is not copied,only reference is copied\n",
    "b[0]=100\n",
    "a[2]=200\n",
    "print(a)\n",
    "print(b)\n",
    "print(a is b)\n"
   ]
  },
  {
   "cell_type": "code",
   "execution_count": 5,
   "metadata": {},
   "outputs": [
    {
     "name": "stdout",
     "output_type": "stream",
     "text": [
      "[100, 2, 200, 4]\n",
      "[100, 2, 200, 4]\n",
      "[100, 2, 200, 4, 5, 10]\n",
      "False\n"
     ]
    }
   ],
   "source": [
    "z=a.copy()\n",
    "z.append(10)\n",
    "a.remove(5)\n",
    "print(a)\n",
    "print(b)\n",
    "print(z)\n",
    "print(a is z)\n"
   ]
  },
  {
   "cell_type": "code",
   "execution_count": null,
   "metadata": {},
   "outputs": [],
   "source": []
  }
 ],
 "metadata": {
  "kernelspec": {
   "display_name": "Python 3",
   "language": "python",
   "name": "python3"
  },
  "language_info": {
   "codemirror_mode": {
    "name": "ipython",
    "version": 3
   },
   "file_extension": ".py",
   "mimetype": "text/x-python",
   "name": "python",
   "nbconvert_exporter": "python",
   "pygments_lexer": "ipython3",
   "version": "3.10.9"
  },
  "orig_nbformat": 4,
  "vscode": {
   "interpreter": {
    "hash": "0e107293a1d140d83dbbf32995913b2c919f28a44c73f7b507ef912319e9e5c3"
   }
  }
 },
 "nbformat": 4,
 "nbformat_minor": 2
}
