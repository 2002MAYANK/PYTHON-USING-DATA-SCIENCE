{
 "cells": [
  {
   "cell_type": "code",
   "execution_count": 1,
   "metadata": {},
   "outputs": [],
   "source": [
    "from dputils.scrape import Scraper , Tag"
   ]
  },
  {
   "attachments": {},
   "cell_type": "markdown",
   "metadata": {},
   "source": [
    "run in terminal pip install dputils"
   ]
  },
  {
   "cell_type": "code",
   "execution_count": 2,
   "metadata": {},
   "outputs": [],
   "source": [
    "url = 'https://www.flipkart.com/search?q=bags&page=20'\n",
    "sc = Scraper(url)"
   ]
  },
  {
   "cell_type": "code",
   "execution_count": 3,
   "metadata": {},
   "outputs": [],
   "source": [
    "target = Tag ( 'div' , cls = '_1YokD2 _3Mn1Gg' )\n",
    "items = Tag ( 'div' , cls = '_1xHGtK _373qXS' )\n",
    "brand = Tag ( 'div' , cls = '_2WkVRV' )\n",
    "details = Tag ( 'div' , cls = 'IRpwTa' )\n",
    "price = Tag ( 'div' , cls = '_30jeq3' )\n",
    "color = Tag ( 'div' , cls = '_3eWWd-' ) \n",
    "discount = Tag ( 'div' , cls = '_3Ay6Sb' )"
   ]
  },
  {
   "attachments": {},
   "cell_type": "markdown",
   "metadata": {},
   "source": [
    "sc.get_all(target,items,brand=brand,errors=True,info = True )"
   ]
  },
  {
   "cell_type": "code",
   "execution_count": 4,
   "metadata": {},
   "outputs": [
    {
     "name": "stdout",
     "output_type": "stream",
     "text": [
      "[{'brand': 'Travlo', 'details': None, 'price': '₹549', 'color': 'Black', 'discount': '45% off'}, {'brand': 'SKYBAGS', 'details': None, 'price': '₹1,850', 'color': 'Blue', 'discount': '15% off'}, {'brand': 'divulge', 'details': None, 'price': '₹263', 'color': 'Black', 'discount': '47% off'}, {'brand': 'SKYBAGS', 'details': None, 'price': '₹429', 'color': 'Yellow', 'discount': '66% off'}, {'brand': 'Goldstar', 'details': None, 'price': '₹299', 'color': 'Black', 'discount': '80% off'}, {'brand': 'Red Lemon', 'details': None, 'price': '₹2,999', 'color': 'Grey', 'discount': '50% off'}, {'brand': 'PERFECT STAR', 'details': None, 'price': '₹1,495', 'color': 'Red', 'discount': '50% off'}, {'brand': 'WROGN', 'details': None, 'price': '₹842', 'color': 'Tan', 'discount': '75% off'}, {'brand': 'Dmade', 'details': None, 'price': '₹690', 'color': 'Grey', 'discount': '65% off'}, {'brand': 'LexCorp', 'details': None, 'price': '₹499', 'color': 'Blue', 'discount': '75% off'}, {'brand': 'Mebee', 'details': None, 'price': '₹1,199', 'color': 'Red', 'discount': '7% off'}, {'brand': 'SKYBAGS', 'details': None, 'price': '₹429', 'color': 'Black', 'discount': '61% off'}, {'brand': 'Wildcraft', 'details': None, 'price': '₹1,799', 'color': 'Black', 'discount': None}, {'brand': 'WROGN', 'details': None, 'price': '₹649', 'color': 'Orange', 'discount': '63% off'}, {'brand': 'PERFECT STAR', 'details': None, 'price': '₹639', 'color': 'Red, Black', 'discount': '78% off'}, {'brand': 'WROGN', 'details': None, 'price': '₹739', 'color': 'Black', 'discount': '81% off'}, {'brand': 'Dmade', 'details': None, 'price': '₹698', 'color': 'Red', 'discount': '65% off'}, {'brand': 'DZIRE', 'details': None, 'price': '₹799', 'color': 'Brown', 'discount': '50% off'}, {'brand': 'SAIMA', 'details': None, 'price': '₹660', 'color': 'Black', 'discount': '33% off'}, {'brand': 'AYZON', 'details': None, 'price': '₹546', 'color': 'Blue', 'discount': '81% off'}, {'brand': 'Lavie Sport', 'details': None, 'price': '₹974', 'color': 'Purple', 'discount': '75% off'}, {'brand': 'Decent', 'details': None, 'price': '₹569', 'color': 'Blue', 'discount': '81% off'}, {'brand': 'toteteca Bag Works', 'details': None, 'price': '₹1,399', 'color': 'Blue', 'discount': '53% off'}, {'brand': 'SKYBAGS', 'details': None, 'price': '₹699', 'color': 'Blue', 'discount': '61% off'}, {'brand': 'BAGSQYNN ERA', 'details': None, 'price': '₹399', 'color': 'Green', 'discount': '69% off'}, {'brand': 'Flycraft', 'details': None, 'price': '₹645', 'color': 'Red, Green', 'discount': '76% off'}, {'brand': 'Aaronic', 'details': None, 'price': '₹443', 'color': 'Black, Orange', 'discount': '65% off'}, {'brand': 'AYZON', 'details': None, 'price': '₹562', 'color': 'Grey', 'discount': '83% off'}, {'brand': 'Lunar', 'details': None, 'price': '₹799', 'color': 'Black, White', 'discount': '55% off'}, {'brand': 'Quaffor', 'details': None, 'price': '₹1,290', 'color': 'Black', 'discount': '48% off'}, {'brand': 'deltin', 'details': None, 'price': '₹399', 'color': 'Black', 'discount': '81% off'}, {'brand': 'Fino', 'details': None, 'price': '₹599', 'color': 'Blue', 'discount': '70% off'}, {'brand': 'TANAUM', 'details': None, 'price': '₹618', 'color': 'Black', 'discount': '58% off'}, {'brand': 'SKY RISE', 'details': None, 'price': '₹499', 'color': 'Red', 'discount': '68% off'}, {'brand': 'GOOD FRIENDS', 'details': None, 'price': '₹509', 'color': 'Blue', 'discount': '74% off'}, {'brand': 'Fino', 'details': None, 'price': '₹799', 'color': 'Black', 'discount': '80% off'}, {'brand': 'Shanvi Handicrafts', 'details': None, 'price': '₹873', 'color': 'Multicolor', 'discount': '32% off'}, {'brand': 'Lunar', 'details': None, 'price': '₹849', 'color': 'Blue, Black', 'discount': '50% off'}, {'brand': 'LexCorp', 'details': None, 'price': '₹499', 'color': 'Black', 'discount': '75% off'}, {'brand': 'TRAVEL POINT', 'details': None, 'price': '₹648', 'color': 'Black, Yellow', 'discount': '78% off'}]\n"
     ]
    }
   ],
   "source": [
    "data = sc.get_all (\n",
    "    target , items , brand=brand ,\n",
    "    details=details , price=price ,\n",
    "    color=color , discount=discount\n",
    ")\n",
    "print(data)\n"
   ]
  },
  {
   "cell_type": "code",
   "execution_count": null,
   "metadata": {},
   "outputs": [],
   "source": []
  }
 ],
 "metadata": {
  "kernelspec": {
   "display_name": "base",
   "language": "python",
   "name": "python3"
  },
  "language_info": {
   "codemirror_mode": {
    "name": "ipython",
    "version": 3
   },
   "file_extension": ".py",
   "mimetype": "text/x-python",
   "name": "python",
   "nbconvert_exporter": "python",
   "pygments_lexer": "ipython3",
   "version": "3.10.8"
  },
  "orig_nbformat": 4
 },
 "nbformat": 4,
 "nbformat_minor": 2
}
