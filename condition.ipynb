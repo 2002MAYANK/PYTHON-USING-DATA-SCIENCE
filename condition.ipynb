{
 "cells": [
  {
   "cell_type": "code",
   "execution_count": 1,
   "metadata": {},
   "outputs": [
    {
     "name": "stdout",
     "output_type": "stream",
     "text": [
      "good job\n"
     ]
    }
   ],
   "source": [
    "x=input(\"enter a num\")\n",
    "if x.isnumeric():\n",
    "    print('good job')\n",
    "else:\n",
    "    print('sad life')\n"
   ]
  },
  {
   "cell_type": "code",
   "execution_count": 7,
   "metadata": {},
   "outputs": [
    {
     "name": "stdout",
     "output_type": "stream",
     "text": [
      "please wait 1 years\n"
     ]
    }
   ],
   "source": [
    "age=int(input('enter your age'))\n",
    "if age>=18:\n",
    "    print('you can vote')\n",
    "else:\n",
    "    print(f\"please wait {18-age} years\")    "
   ]
  },
  {
   "cell_type": "code",
   "execution_count": null,
   "metadata": {},
   "outputs": [],
   "source": []
  },
  {
   "cell_type": "code",
   "execution_count": 9,
   "metadata": {},
   "outputs": [
    {
     "name": "stdout",
     "output_type": "stream",
     "text": [
      "total cost price Rs.2000\n"
     ]
    }
   ],
   "source": [
    "x=100\n",
    "y='mango'\n",
    "prc=20\n",
    "print(f'total cost price Rs.{x*prc}')"
   ]
  },
  {
   "cell_type": "code",
   "execution_count": 11,
   "metadata": {},
   "outputs": [
    {
     "name": "stdout",
     "output_type": "stream",
     "text": [
      "x=60is natural num\n",
      "x=60is even\n",
      "x=60is greater than 50\n"
     ]
    }
   ],
   "source": [
    "x=int(input('enter a num'))\n",
    "if x>0:\n",
    "    print(f\"{x=}is natural num\")\n",
    "if x%2==0:\n",
    "    print(f\"{x=}is even\")\n",
    "if x>50:\n",
    "    print(f\"{x=}is greater than 50\")        "
   ]
  },
  {
   "cell_type": "code",
   "execution_count": 20,
   "metadata": {},
   "outputs": [
    {
     "name": "stdout",
     "output_type": "stream",
     "text": [
      "salary is 30000\n",
      "bonus is 9000.0\n",
      "hra is 6000.0\n"
     ]
    }
   ],
   "source": [
    "x=input('enter the post')\n",
    "if x== 'manager':\n",
    "    print(\"salary is 50000\")\n",
    "    print(f\"bonus is {50000*.1}\")\n",
    "    print(f\"hra is {50000*.2}\")\n",
    "if x== 'developer':\n",
    "    print(\"salary is 40000\")\n",
    "    print(f\"bonus is {40000*.2}\")\n",
    "    print(f\"hra is {40000*.2}\")\n",
    "if x== 'tester':\n",
    "    print(\"salary is 30000\")\n",
    "    print(f\"bonus is {30000*.3}\")\n",
    "    print(f\"hra is {30000*.2}\")"
   ]
  }
 ],
 "metadata": {
  "kernelspec": {
   "display_name": "base",
   "language": "python",
   "name": "python3"
  },
  "language_info": {
   "codemirror_mode": {
    "name": "ipython",
    "version": 3
   },
   "file_extension": ".py",
   "mimetype": "text/x-python",
   "name": "python",
   "nbconvert_exporter": "python",
   "pygments_lexer": "ipython3",
   "version": "3.10.8"
  },
  "orig_nbformat": 4,
  "vscode": {
   "interpreter": {
    "hash": "63bae4481c82bedbf54b6f96e45d928725b2be2d87dcca170ee961f071246403"
   }
  }
 },
 "nbformat": 4,
 "nbformat_minor": 2
}
