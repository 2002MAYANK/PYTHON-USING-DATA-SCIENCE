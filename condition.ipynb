{
 "cells": [
  {
   "cell_type": "code",
   "execution_count": 2,
   "metadata": {},
   "outputs": [
    {
     "name": "stdout",
     "output_type": "stream",
     "text": [
      "good job\n"
     ]
    }
   ],
   "source": [
    "x=input(\"enter a num\")\n",
    "if x.isnumeric():\n",
    "    print('good job')\n",
    "else:\n",
    "    print('sad life')\n"
   ]
  },
  {
   "cell_type": "code",
   "execution_count": 3,
   "metadata": {},
   "outputs": [
    {
     "name": "stdout",
     "output_type": "stream",
     "text": [
      "please wait 11 years\n"
     ]
    }
   ],
   "source": [
    "age=int(input('enter your age'))\n",
    "if age>=18:\n",
    "    print('you can vote')\n",
    "else:\n",
    "    print(f\"please wait {18-age} years\")    "
   ]
  },
  {
   "cell_type": "code",
   "execution_count": null,
   "metadata": {},
   "outputs": [],
   "source": []
  },
  {
   "cell_type": "code",
   "execution_count": 4,
   "metadata": {},
   "outputs": [
    {
     "name": "stdout",
     "output_type": "stream",
     "text": [
      "total cost price Rs.2000\n"
     ]
    }
   ],
   "source": [
    "x=100\n",
    "y='mango'\n",
    "prc=20\n",
    "print(f'total cost price Rs.{x*prc}')"
   ]
  },
  {
   "cell_type": "code",
   "execution_count": 5,
   "metadata": {},
   "outputs": [
    {
     "name": "stdout",
     "output_type": "stream",
     "text": [
      "x=7is natural num\n"
     ]
    }
   ],
   "source": [
    "x=int(input('enter a num'))\n",
    "if x>0:\n",
    "    print(f\"{x=}is natural num\")\n",
    "if x%2==0:\n",
    "    print(f\"{x=}is even\")\n",
    "if x>50:\n",
    "    print(f\"{x=}is greater than 50\")        "
   ]
  },
  {
   "cell_type": "code",
   "execution_count": 6,
   "metadata": {},
   "outputs": [],
   "source": [
    "x=input('enter the post')\n",
    "if x== 'manager':\n",
    "    print(\"salary is 50000\")\n",
    "    print(f\"bonus is {50000*.1}\")\n",
    "    print(f\"hra is {50000*.2}\")\n",
    "if x== 'developer':\n",
    "    print(\"salary is 40000\")\n",
    "    print(f\"bonus is {40000*.2}\")\n",
    "    print(f\"hra is {40000*.2}\")\n",
    "if x== 'tester':\n",
    "    print(\"salary is 30000\")\n",
    "    print(f\"bonus is {30000*.3}\")\n",
    "    print(f\"hra is {30000*.2}\")"
   ]
  },
  {
   "cell_type": "code",
   "execution_count": 7,
   "metadata": {},
   "outputs": [
    {
     "name": "stdout",
     "output_type": "stream",
     "text": [
      "banana not available\n"
     ]
    }
   ],
   "source": [
    "fruit = input('enter a fruit name')\n",
    "match fruit:\n",
    "    case 'apple':\n",
    "        print(\"apples are 100/kg\")\n",
    "    case 'mango':\n",
    "        print(\"mango are 50/kg\")\n",
    "    case 'guava':\n",
    "        print(\"guava are 40/kg\")\n",
    "    case _:\n",
    "        print(f\"{fruit} not available\")\n",
    "     "
   ]
  },
  {
   "cell_type": "code",
   "execution_count": null,
   "metadata": {},
   "outputs": [],
   "source": []
  }
 ],
 "metadata": {
  "kernelspec": {
   "display_name": "Python 3",
   "language": "python",
   "name": "python3"
  },
  "language_info": {
   "codemirror_mode": {
    "name": "ipython",
    "version": 3
   },
   "file_extension": ".py",
   "mimetype": "text/x-python",
   "name": "python",
   "nbconvert_exporter": "python",
   "pygments_lexer": "ipython3",
   "version": "3.10.9"
  },
  "orig_nbformat": 4,
  "vscode": {
   "interpreter": {
    "hash": "0e107293a1d140d83dbbf32995913b2c919f28a44c73f7b507ef912319e9e5c3"
   }
  }
 },
 "nbformat": 4,
 "nbformat_minor": 2
}
