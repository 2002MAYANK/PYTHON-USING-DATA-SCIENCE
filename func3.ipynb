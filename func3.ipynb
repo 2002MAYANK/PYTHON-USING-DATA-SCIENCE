{
 "cells": [
  {
   "cell_type": "code",
   "execution_count": 2,
   "metadata": {},
   "outputs": [],
   "source": [
    "f=lambda x: x+3"
   ]
  },
  {
   "cell_type": "code",
   "execution_count": 3,
   "metadata": {},
   "outputs": [
    {
     "name": "stdout",
     "output_type": "stream",
     "text": [
      "6 7 10\n"
     ]
    }
   ],
   "source": [
    "print(f(3),f(4),f(7))"
   ]
  },
  {
   "cell_type": "code",
   "execution_count": 5,
   "metadata": {},
   "outputs": [
    {
     "name": "stdout",
     "output_type": "stream",
     "text": [
      "8 17\n"
     ]
    }
   ],
   "source": [
    "g= lambda x, y:x**2 + y + 3\n",
    "print(g(2,1),g(3,5))\n"
   ]
  },
  {
   "cell_type": "code",
   "execution_count": 7,
   "metadata": {},
   "outputs": [
    {
     "name": "stdout",
     "output_type": "stream",
     "text": [
      "[15, 60, 82, 71, 61, 84, 61, 27, 59, 94, 40]\n"
     ]
    }
   ],
   "source": [
    "x=[20,65,87,76,66,89,66,32,64,99,45]\n",
    "# for beginners\n",
    "y=[]# blank list\n",
    "for i in x:\n",
    "    y.append(i-5)\n",
    "print(y)    "
   ]
  },
  {
   "cell_type": "code",
   "execution_count": 8,
   "metadata": {},
   "outputs": [
    {
     "data": {
      "text/plain": [
       "[15, 60, 82, 71, 61, 84, 61, 27, 59, 94, 40]"
      ]
     },
     "execution_count": 8,
     "metadata": {},
     "output_type": "execute_result"
    }
   ],
   "source": [
    "list(map(lambda i: i-5,x))"
   ]
  },
  {
   "cell_type": "code",
   "execution_count": 9,
   "metadata": {},
   "outputs": [
    {
     "data": {
      "text/plain": [
       "(15, 60, 82, 71, 61, 84, 61, 27, 59, 94, 40)"
      ]
     },
     "execution_count": 9,
     "metadata": {},
     "output_type": "execute_result"
    }
   ],
   "source": [
    "tuple(map(lambda i: i-5,x))"
   ]
  },
  {
   "cell_type": "code",
   "execution_count": 10,
   "metadata": {},
   "outputs": [
    {
     "data": {
      "text/plain": [
       "{15, 27, 40, 59, 60, 61, 71, 82, 84, 94}"
      ]
     },
     "execution_count": 10,
     "metadata": {},
     "output_type": "execute_result"
    }
   ],
   "source": [
    "set(map(lambda i: i-5,x))"
   ]
  },
  {
   "cell_type": "code",
   "execution_count": 13,
   "metadata": {},
   "outputs": [
    {
     "name": "stdout",
     "output_type": "stream",
     "text": [
      "[46.14108798023731, 62.93647591023825, 118.3427226321923, 46.09772228646444]\n"
     ]
    }
   ],
   "source": [
    "p=[23,44,78,45]\n",
    "b=[40,45,89,10]\n",
    "h=list(map(lambda a,b:(a**2+b**2)**.5,p,b))\n",
    "print(h)"
   ]
  },
  {
   "cell_type": "code",
   "execution_count": 16,
   "metadata": {},
   "outputs": [
    {
     "name": "stdout",
     "output_type": "stream",
     "text": [
      "[529, 1936, 104976, 16, 1225, 1024, 1936]\n"
     ]
    }
   ],
   "source": [
    "# create a list of squares from a list of numbers\n",
    "p=[23,44,324,4,35,32,44]\n",
    "h=list(map(lambda p:p**2,p))\n",
    "print(h)"
   ]
  },
  {
   "cell_type": "code",
   "execution_count": 19,
   "metadata": {},
   "outputs": [
    {
     "name": "stdout",
     "output_type": "stream",
     "text": [
      "[3, 4, 5, 6, 7, 8, 4, 3, 6, 7, 8, 5, 4, 5, 6, 4, 3, 3, 5, 6]\n"
     ]
    }
   ],
   "source": [
    "a = [2,3,4,5,6,7,8,4,3,2,6,7,8,5,1,1,4,5,6,4,3,3,5,6]\n",
    "b=list(filter(lambda i:i>=3,a))\n",
    "print(b)"
   ]
  },
  {
   "cell_type": "code",
   "execution_count": null,
   "metadata": {},
   "outputs": [],
   "source": []
  }
 ],
 "metadata": {
  "kernelspec": {
   "display_name": "Python 3",
   "language": "python",
   "name": "python3"
  },
  "language_info": {
   "codemirror_mode": {
    "name": "ipython",
    "version": 3
   },
   "file_extension": ".py",
   "mimetype": "text/x-python",
   "name": "python",
   "nbconvert_exporter": "python",
   "pygments_lexer": "ipython3",
   "version": "3.10.9"
  },
  "orig_nbformat": 4,
  "vscode": {
   "interpreter": {
    "hash": "0e107293a1d140d83dbbf32995913b2c919f28a44c73f7b507ef912319e9e5c3"
   }
  }
 },
 "nbformat": 4,
 "nbformat_minor": 2
}
